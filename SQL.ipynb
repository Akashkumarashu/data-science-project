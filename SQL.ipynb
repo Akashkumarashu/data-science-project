{
  "nbformat": 4,
  "nbformat_minor": 0,
  "metadata": {
    "colab": {
      "provenance": [],
      "include_colab_link": true
    },
    "kernelspec": {
      "name": "python3",
      "display_name": "Python 3"
    },
    "language_info": {
      "name": "python"
    }
  },
  "cells": [
    {
      "cell_type": "markdown",
      "metadata": {
        "id": "view-in-github",
        "colab_type": "text"
      },
      "source": [
        "<a href=\"https://colab.research.google.com/github/Akashkumarashu/data-science-project/blob/main/SQL.ipynb\" target=\"_parent\"><img src=\"https://colab.research.google.com/assets/colab-badge.svg\" alt=\"Open In Colab\"/></a>"
      ]
    },
    {
      "cell_type": "code",
      "execution_count": null,
      "metadata": {
        "id": "KFvFxJlYrmlx"
      },
      "outputs": [],
      "source": [
        "import sqlite3\n",
        "con1 = sqlite3.connect('example2.db')\n",
        "cur1 = con1.cursor()\n"
      ]
    },
    {
      "cell_type": "code",
      "source": [
        "\n",
        "cur1.execute('''CREATE TABLE student1(sid integer,sname text,course text,admissionfees float)''')\n"
      ],
      "metadata": {
        "colab": {
          "base_uri": "https://localhost:8080/"
        },
        "id": "_sFEmEVDsh9j",
        "outputId": "d0790dc3-29f0-4a68-d445-1c5c6f45b7e5"
      },
      "execution_count": null,
      "outputs": [
        {
          "output_type": "execute_result",
          "data": {
            "text/plain": [
              "<sqlite3.Cursor at 0x7f9068acf030>"
            ]
          },
          "metadata": {},
          "execution_count": 2
        }
      ]
    },
    {
      "cell_type": "code",
      "source": [
        "resultset=cur1.execute(\"select * from student1\")\n",
        "for row in resultset:\n",
        "  print(row)"
      ],
      "metadata": {
        "id": "_YlZaH_ozhrk"
      },
      "execution_count": null,
      "outputs": []
    },
    {
      "cell_type": "code",
      "source": [
        "for row in resultset:\n",
        "  print(row)"
      ],
      "metadata": {
        "id": "Sn_x7fRUK1M4"
      },
      "execution_count": null,
      "outputs": []
    },
    {
      "cell_type": "code",
      "source": [
        "cur1.execute('''INSERT INTO student1  VALUES (110043,\"jay\",\"btech\",450000)''')\n"
      ],
      "metadata": {
        "colab": {
          "base_uri": "https://localhost:8080/"
        },
        "id": "m9WpWFMyLLm-",
        "outputId": "a829eee8-aaa7-4606-c033-f69987b62313"
      },
      "execution_count": null,
      "outputs": [
        {
          "output_type": "execute_result",
          "data": {
            "text/plain": [
              "<sqlite3.Cursor at 0x7f9068acf030>"
            ]
          },
          "metadata": {},
          "execution_count": 5
        }
      ]
    },
    {
      "cell_type": "code",
      "source": [
        "cur1.execute('''INSERT INTO student1  VALUES (110044,\"rohan\",\"bba\",200000)''')\n"
      ],
      "metadata": {
        "colab": {
          "base_uri": "https://localhost:8080/"
        },
        "id": "wKRhMxReMCpx",
        "outputId": "f8a1d744-b582-466d-823a-17b786c94f86"
      },
      "execution_count": null,
      "outputs": [
        {
          "output_type": "execute_result",
          "data": {
            "text/plain": [
              "<sqlite3.Cursor at 0x7f9068acf030>"
            ]
          },
          "metadata": {},
          "execution_count": 6
        }
      ]
    },
    {
      "cell_type": "code",
      "source": [
        "cur1.execute('''INSERT INTO student1  VALUES (110045,\"ankit\",\"ba\",190000)''')\n"
      ],
      "metadata": {
        "colab": {
          "base_uri": "https://localhost:8080/"
        },
        "id": "j2NQBk5fMZMw",
        "outputId": "9e13a441-879f-4105-b17f-c37c23bd77db"
      },
      "execution_count": null,
      "outputs": [
        {
          "output_type": "execute_result",
          "data": {
            "text/plain": [
              "<sqlite3.Cursor at 0x7f9068acf030>"
            ]
          },
          "metadata": {},
          "execution_count": 7
        }
      ]
    },
    {
      "cell_type": "code",
      "source": [
        "cur1.execute('''INSERT INTO student1  VALUES (110046,\"rahul\",\"bcom\",290000)''')\n"
      ],
      "metadata": {
        "colab": {
          "base_uri": "https://localhost:8080/"
        },
        "id": "otrzndL7Mpar",
        "outputId": "ffcf3646-1118-4a3b-afa4-968b089bccd6"
      },
      "execution_count": null,
      "outputs": [
        {
          "output_type": "execute_result",
          "data": {
            "text/plain": [
              "<sqlite3.Cursor at 0x7f9068acf030>"
            ]
          },
          "metadata": {},
          "execution_count": 8
        }
      ]
    },
    {
      "cell_type": "code",
      "source": [
        "for row in resultset:\n",
        "  print(row)"
      ],
      "metadata": {
        "id": "FJM0HRz1M_CT"
      },
      "execution_count": null,
      "outputs": []
    },
    {
      "cell_type": "markdown",
      "source": [],
      "metadata": {
        "id": "f_H0i4NPMC4Q"
      }
    },
    {
      "cell_type": "code",
      "source": [
        "cur1.execute(\"DELETE FROM student1 WHERE sid=110044\");"
      ],
      "metadata": {
        "id": "NvsCMIh5t_Fv"
      },
      "execution_count": null,
      "outputs": []
    },
    {
      "cell_type": "code",
      "source": [
        "cur1.execute('''DELETE FROM student1 WHERE sname=(\"ankit\")''');"
      ],
      "metadata": {
        "id": "tjDurwkCt_Hu"
      },
      "execution_count": null,
      "outputs": []
    },
    {
      "cell_type": "code",
      "source": [
        "cur1.execute(\"UPDATE student1 SET course= 'mba' WHERE sid = 110043\")"
      ],
      "metadata": {
        "colab": {
          "base_uri": "https://localhost:8080/"
        },
        "id": "gnVzs_3kPpe-",
        "outputId": "ea949bd3-eeb5-4b48-c08c-7cc0a21528ad"
      },
      "execution_count": null,
      "outputs": [
        {
          "output_type": "execute_result",
          "data": {
            "text/plain": [
              "<sqlite3.Cursor at 0x7f9068acf030>"
            ]
          },
          "metadata": {},
          "execution_count": 12
        }
      ]
    },
    {
      "cell_type": "code",
      "source": [
        "cur1.execute('''INSERT INTO student1  VALUES (110048,\"bobby\",\"bca\",390000)''')\n"
      ],
      "metadata": {
        "colab": {
          "base_uri": "https://localhost:8080/"
        },
        "id": "p7kXpwRGRk3e",
        "outputId": "272f5737-88cc-4c34-99b6-3cd46b9159d5"
      },
      "execution_count": null,
      "outputs": [
        {
          "output_type": "execute_result",
          "data": {
            "text/plain": [
              "<sqlite3.Cursor at 0x7f9068acf030>"
            ]
          },
          "metadata": {},
          "execution_count": 13
        }
      ]
    },
    {
      "cell_type": "code",
      "source": [
        "resultset=cur1.execute(\"select * from student1\")\n",
        "for row in resultset:\n",
        "  print(row)"
      ],
      "metadata": {
        "colab": {
          "base_uri": "https://localhost:8080/"
        },
        "id": "c1CSAsUqRh37",
        "outputId": "8b7e943b-68a7-4c2c-dcfe-93ba88da3305"
      },
      "execution_count": null,
      "outputs": [
        {
          "output_type": "stream",
          "name": "stdout",
          "text": [
            "(110043, 'jay', 'mba', 450000.0)\n",
            "(110046, 'rahul', 'bcom', 290000.0)\n",
            "(110048, 'bobby', 'bca', 390000.0)\n"
          ]
        }
      ]
    },
    {
      "cell_type": "code",
      "source": [
        "resultset2=cur1.execute(\"select * from student1 order by sname asc\")\n",
        "for row in resultset:\n",
        "  print(row)\n"
      ],
      "metadata": {
        "colab": {
          "base_uri": "https://localhost:8080/"
        },
        "id": "fSYVtxhgSnjc",
        "outputId": "90562bd3-ddcd-4bf7-8fb5-e6bd75d0ac3e"
      },
      "execution_count": null,
      "outputs": [
        {
          "output_type": "stream",
          "name": "stdout",
          "text": [
            "(110048, 'bobby', 'bca', 390000.0)\n",
            "(110043, 'jay', 'mba', 450000.0)\n",
            "(110046, 'rahul', 'bcom', 290000.0)\n"
          ]
        }
      ]
    },
    {
      "cell_type": "code",
      "source": [
        "row1=cur1.execute('''SELECT * FROM student1 WHERE course = 'mba' AND admissionfees>390000''')\n",
        "\n"
      ],
      "metadata": {
        "id": "9U_PtooWUDvU"
      },
      "execution_count": null,
      "outputs": []
    },
    {
      "cell_type": "code",
      "source": [
        "for row in row1:\n",
        "  print(row[0],row[1])"
      ],
      "metadata": {
        "colab": {
          "base_uri": "https://localhost:8080/"
        },
        "id": "_30Q7G9AVE5S",
        "outputId": "49ebd0d4-ba0b-4404-c6c3-a5aa97b62886"
      },
      "execution_count": null,
      "outputs": [
        {
          "output_type": "stream",
          "name": "stdout",
          "text": [
            "110043 jay\n"
          ]
        }
      ]
    },
    {
      "cell_type": "code",
      "source": [
        "row1=cur1.execute('''SELECT * FROM student1''')\n"
      ],
      "metadata": {
        "id": "Ng9NNz1vLTjz"
      },
      "execution_count": null,
      "outputs": []
    },
    {
      "cell_type": "code",
      "source": [
        "row1=cur1.execute('''SELECT * FROM student1 where course like \"b%\" ''')"
      ],
      "metadata": {
        "id": "Yz_tp8lbOcKy"
      },
      "execution_count": null,
      "outputs": []
    },
    {
      "cell_type": "code",
      "source": [
        "for row in row1:\n",
        "  print(row)"
      ],
      "metadata": {
        "colab": {
          "base_uri": "https://localhost:8080/"
        },
        "id": "jxIB2Uk7N8sJ",
        "outputId": "699613ac-207c-4dc6-f8ef-516537afac8d"
      },
      "execution_count": null,
      "outputs": [
        {
          "output_type": "stream",
          "name": "stdout",
          "text": [
            "(110046, 'rahul', 'bcom', 290000.0)\n",
            "(110048, 'bobby', 'bca', 390000.0)\n"
          ]
        }
      ]
    },
    {
      "cell_type": "code",
      "source": [
        "cur1.execute(\"SELECT * FROM student1 LIMIT 2\")\n",
        "\n",
        "myresult = cur1.fetchall()\n",
        "\n",
        "for x in myresult:\n",
        "  print(x)\n"
      ],
      "metadata": {
        "colab": {
          "base_uri": "https://localhost:8080/"
        },
        "id": "TaX6CuJsPRdg",
        "outputId": "4c5c13f6-0d2c-4bca-a81d-9926debe6c87"
      },
      "execution_count": null,
      "outputs": [
        {
          "output_type": "stream",
          "name": "stdout",
          "text": [
            "(110043, 'jay', 'mba', 450000.0)\n",
            "(110046, 'rahul', 'bcom', 290000.0)\n"
          ]
        }
      ]
    },
    {
      "cell_type": "code",
      "source": [
        "cur1.execute('''create table city( cityname text, temp int) ''')"
      ],
      "metadata": {
        "colab": {
          "base_uri": "https://localhost:8080/"
        },
        "id": "s6eVOOPcQN21",
        "outputId": "a8f20277-46cc-4514-f172-7922f5b1e098"
      },
      "execution_count": null,
      "outputs": [
        {
          "output_type": "execute_result",
          "data": {
            "text/plain": [
              "<sqlite3.Cursor at 0x7f9068acf030>"
            ]
          },
          "metadata": {},
          "execution_count": 22
        }
      ]
    },
    {
      "cell_type": "code",
      "source": [],
      "metadata": {
        "id": "4UTH2WBJTjb-"
      },
      "execution_count": null,
      "outputs": []
    },
    {
      "cell_type": "code",
      "source": [
        "cur1.execute('''insert into city values(\"mumbai\", 34)''')"
      ],
      "metadata": {
        "colab": {
          "base_uri": "https://localhost:8080/"
        },
        "id": "PGaNV794RG3x",
        "outputId": "af4be6aa-ac13-4b72-91db-0384bef3a49b"
      },
      "execution_count": null,
      "outputs": [
        {
          "output_type": "execute_result",
          "data": {
            "text/plain": [
              "<sqlite3.Cursor at 0x7f9068acf030>"
            ]
          },
          "metadata": {},
          "execution_count": 23
        }
      ]
    },
    {
      "cell_type": "code",
      "source": [
        "cur1.execute('''insert into city values(\"delhi\", 24)''')"
      ],
      "metadata": {
        "colab": {
          "base_uri": "https://localhost:8080/"
        },
        "id": "f7Rv0ccQRZJ4",
        "outputId": "54c79607-4af1-48d7-dcea-f024b4698539"
      },
      "execution_count": null,
      "outputs": [
        {
          "output_type": "execute_result",
          "data": {
            "text/plain": [
              "<sqlite3.Cursor at 0x7f9068acf030>"
            ]
          },
          "metadata": {},
          "execution_count": 24
        }
      ]
    },
    {
      "cell_type": "code",
      "source": [
        "\n",
        "cur1.execute('''insert into city values(\"chennai\", 37)''')"
      ],
      "metadata": {
        "colab": {
          "base_uri": "https://localhost:8080/"
        },
        "id": "aKf2SOfWRicJ",
        "outputId": "15d82c29-8be4-4ee8-b460-85554e240346"
      },
      "execution_count": null,
      "outputs": [
        {
          "output_type": "execute_result",
          "data": {
            "text/plain": [
              "<sqlite3.Cursor at 0x7f9068acf030>"
            ]
          },
          "metadata": {},
          "execution_count": 25
        }
      ]
    },
    {
      "cell_type": "code",
      "source": [
        "cur1.execute('''insert into city values(\"kolkata\", 34)''')"
      ],
      "metadata": {
        "colab": {
          "base_uri": "https://localhost:8080/"
        },
        "id": "EFkpeDj9TI4-",
        "outputId": "502d9c1d-ff0a-4155-bc31-3c563a939999"
      },
      "execution_count": null,
      "outputs": [
        {
          "output_type": "execute_result",
          "data": {
            "text/plain": [
              "<sqlite3.Cursor at 0x7f9068acf030>"
            ]
          },
          "metadata": {},
          "execution_count": 26
        }
      ]
    },
    {
      "cell_type": "code",
      "source": [
        "row1=cur1.execute('''SELECT * FROM city ''')\n"
      ],
      "metadata": {
        "id": "5Wof1V9RSIMS"
      },
      "execution_count": null,
      "outputs": []
    },
    {
      "cell_type": "code",
      "source": [
        "for row in row1:\n",
        "  print(row)"
      ],
      "metadata": {
        "colab": {
          "base_uri": "https://localhost:8080/"
        },
        "id": "8LKtDb5XSp9W",
        "outputId": "6dd5f4ef-d24d-4306-eb54-2fe18145396b"
      },
      "execution_count": null,
      "outputs": [
        {
          "output_type": "stream",
          "name": "stdout",
          "text": [
            "('mumbai', 34)\n",
            "('delhi', 24)\n",
            "('chennai', 37)\n",
            "('kolkata', 34)\n"
          ]
        }
      ]
    },
    {
      "cell_type": "code",
      "source": [
        "cur1.execute('''delete from city where temp=24''' )"
      ],
      "metadata": {
        "colab": {
          "base_uri": "https://localhost:8080/"
        },
        "id": "BWaSDZn_S4vA",
        "outputId": "611f502f-1b08-4240-a8dd-068624ee8203"
      },
      "execution_count": null,
      "outputs": [
        {
          "output_type": "execute_result",
          "data": {
            "text/plain": [
              "<sqlite3.Cursor at 0x7f9068acf030>"
            ]
          },
          "metadata": {},
          "execution_count": 29
        }
      ]
    },
    {
      "cell_type": "code",
      "source": [
        "cur1.execute('''create table anothercity( cname text, humidity int)''')"
      ],
      "metadata": {
        "colab": {
          "base_uri": "https://localhost:8080/"
        },
        "id": "pHr2JytdTnT9",
        "outputId": "12e5d4e4-b9c1-4914-a388-5193ddeb613b"
      },
      "execution_count": null,
      "outputs": [
        {
          "output_type": "execute_result",
          "data": {
            "text/plain": [
              "<sqlite3.Cursor at 0x7f9068acf030>"
            ]
          },
          "metadata": {},
          "execution_count": 30
        }
      ]
    },
    {
      "cell_type": "code",
      "source": [
        "cur1.execute('''insert into anothercity values(\"delhi\", 40)''')"
      ],
      "metadata": {
        "colab": {
          "base_uri": "https://localhost:8080/"
        },
        "id": "qnP_I5j8Tp5T",
        "outputId": "caf4e199-77c7-4cc9-982a-b067498cf576"
      },
      "execution_count": null,
      "outputs": [
        {
          "output_type": "execute_result",
          "data": {
            "text/plain": [
              "<sqlite3.Cursor at 0x7f9068acf030>"
            ]
          },
          "metadata": {},
          "execution_count": 31
        }
      ]
    },
    {
      "cell_type": "code",
      "source": [
        "rows=cur1.execute('''select * from anothercity''')\n",
        "for row in rows:\n",
        "  print(row)\n"
      ],
      "metadata": {
        "colab": {
          "base_uri": "https://localhost:8080/"
        },
        "id": "EqEoJqGrTqcs",
        "outputId": "71356a8a-154c-422b-b99b-0de2e9dfb862"
      },
      "execution_count": null,
      "outputs": [
        {
          "output_type": "stream",
          "name": "stdout",
          "text": [
            "('delhi', 40)\n"
          ]
        }
      ]
    },
    {
      "cell_type": "code",
      "source": [
        "resultset=cur1.execute('''SELECT city.cityname as \"cityname\", city.temp as \"temp\", anothercity.humidity as \"humidity\"\n",
        "FROM city\n",
        "INNER JOIN anothercity ON city.cityname = anothercity.cname''');"
      ],
      "metadata": {
        "id": "FdpfiKNdUxRm"
      },
      "execution_count": null,
      "outputs": []
    },
    {
      "cell_type": "code",
      "source": [
        "for row in resultset:\n",
        "  print(row)"
      ],
      "metadata": {
        "id": "iJFB4TJNVgBS"
      },
      "execution_count": null,
      "outputs": []
    },
    {
      "cell_type": "code",
      "source": [
        "cur1.execute('''drop table city''')"
      ],
      "metadata": {
        "colab": {
          "base_uri": "https://localhost:8080/"
        },
        "id": "ehDebc-eWER8",
        "outputId": "0f9fa61a-e3a0-45a9-b35f-73f0367dc72e"
      },
      "execution_count": null,
      "outputs": [
        {
          "output_type": "execute_result",
          "data": {
            "text/plain": [
              "<sqlite3.Cursor at 0x7f9068acf030>"
            ]
          },
          "metadata": {},
          "execution_count": 35
        }
      ]
    },
    {
      "cell_type": "code",
      "source": [
        "cur1.execute('''select * from city''')"
      ],
      "metadata": {
        "colab": {
          "base_uri": "https://localhost:8080/",
          "height": 165
        },
        "id": "32i7iQYYWOES",
        "outputId": "fd7bcd22-b044-4670-ec65-e32a2990bf3c"
      },
      "execution_count": null,
      "outputs": [
        {
          "output_type": "error",
          "ename": "OperationalError",
          "evalue": "ignored",
          "traceback": [
            "\u001b[0;31m---------------------------------------------------------------------------\u001b[0m",
            "\u001b[0;31mOperationalError\u001b[0m                          Traceback (most recent call last)",
            "\u001b[0;32m<ipython-input-36-bf15483218c4>\u001b[0m in \u001b[0;36m<module>\u001b[0;34m\u001b[0m\n\u001b[0;32m----> 1\u001b[0;31m \u001b[0mcur1\u001b[0m\u001b[0;34m.\u001b[0m\u001b[0mexecute\u001b[0m\u001b[0;34m(\u001b[0m\u001b[0;34m'''select * from city'''\u001b[0m\u001b[0;34m)\u001b[0m\u001b[0;34m\u001b[0m\u001b[0;34m\u001b[0m\u001b[0m\n\u001b[0m",
            "\u001b[0;31mOperationalError\u001b[0m: no such table: city"
          ]
        }
      ]
    }
  ]
}